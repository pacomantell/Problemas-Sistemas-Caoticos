{
 "cells": [
  {
   "cell_type": "code",
   "execution_count": 45,
   "metadata": {},
   "outputs": [],
   "source": [
    "import numpy as np\n",
    "import matplotlib.pyplot as plt\n",
    "from scipy.optimize import fsolve\n",
    "from sympy import Symbol\n",
    "from sympy.solvers import solve\n",
    "%matplotlib inline"
   ]
  },
  {
   "cell_type": "markdown",
   "metadata": {},
   "source": [
    "# APARTADO B"
   ]
  },
  {
   "cell_type": "code",
   "execution_count": 73,
   "metadata": {},
   "outputs": [
    {
     "data": {
      "text/plain": [
       "[k*(k**2 - 2*k + 1)/2, k*(k**2 + 2*k + 1)/2]"
      ]
     },
     "execution_count": 73,
     "metadata": {},
     "output_type": "execute_result"
    }
   ],
   "source": [
    "#condición para que delta sea cero en apartado b en función de k y b\n",
    "def DeltaB():\n",
    "    k = Symbol('k')\n",
    "    b = Symbol('b')\n",
    "    \n",
    "    w = solve(((2 * b / k) - 1 - (k ** 2)) ** 2 - (2 * k) ** 2, b)\n",
    "    return w\n",
    "DeltaB()"
   ]
  },
  {
   "cell_type": "code",
   "execution_count": 136,
   "metadata": {},
   "outputs": [
    {
     "name": "stderr",
     "output_type": "stream",
     "text": [
      "<ipython-input-136-e7efafa189ac>:14: RuntimeWarning: invalid value encountered in sqrt\n",
      "  lm = 0.5 * (tr - np.sqrt(delta))\n",
      "<ipython-input-136-e7efafa189ac>:15: RuntimeWarning: invalid value encountered in sqrt\n",
      "  lmas = 0.5 * (tr + np.sqrt(delta))\n"
     ]
    },
    {
     "data": {
      "image/png": "[encoded data removed]",
      "text/plain": [
       "<Figure size 576x288 with 1 Axes>"
      ]
     },
     "metadata": {
      "needs_background": "light"
     },
     "output_type": "display_data"
    }
   ],
   "source": [
    "#funcion que me pinta la traza, determinante y todo, en función de k para gamma, y a fijos\n",
    "def Tr(g, a, figx=None, figy=None):\n",
    "    \n",
    "    b = np.linspace(0, 10, 1000)\n",
    "    k = a + b\n",
    "    \n",
    "    k0 = 2 * k\n",
    "    \n",
    "    tr= g * ((2 * b / k) - 1 - (k ** 2))\n",
    "    det = (g ** 2) * (k ** 2)\n",
    "    \n",
    "    delta = (tr ** 2) - (4 * det)\n",
    "    \n",
    "    lm = 0.5 * (tr - np.sqrt(delta))\n",
    "    lmas = 0.5 * (tr + np.sqrt(delta))\n",
    "    \n",
    "    h = k * (1 + (k ** 2)) / 2\n",
    "    \n",
    "\n",
    "    \n",
    "    #figx.plot (b[(np.abs(b - h)<(k ** 2))], tr[(np.abs(b - h)<(k ** 2))], 'cyan', label=(r'$Tr_*(|b-h|<k^2)(b<h)$'))\n",
    "    #figx.plot (b[(np.abs(b - h)<(k ** 2))&(b>h)], tr[(np.abs(b - h)<(k ** 2))&(b>h)], 'k', label=(r'$Tr_*(|b-h|<k^2)(b>h)$'))\n",
    "\n",
    "    figx.plot(b[(b<h)&(b<0.5)], tr[(b<h)&(b<0.5)], 'k', label=(f'$Tr_*(b<h)$'))\n",
    "    figx.plot(b[(b<h)&(b>0.5)], tr[(b<h)&(b>0.5)], 'k')\n",
    "\n",
    "    #figx.plot(b, det, 'g', label=(r'$Det_*$'))\n",
    "\n",
    "    #figx.plot(b[np.abs(b - h)<(k ** 2)], delta[np.abs(b - h)<(k ** 2)], 'orange', label=(r'$\\Delta_*(|b-h|<k^2)$'))\n",
    "        \n",
    "    figx.axhline(0, color='k', lw=0.5, ls='--')\n",
    "\n",
    "    figx.set_title(f'$a={a}, \\gamma={g}$')\n",
    "    figx.set_xlabel('b')\n",
    "    figx.set_ylim(-5, 5)\n",
    "    figx.set_xlim(0, 3)\n",
    "    figx.legend(loc=1)\n",
    "    \n",
    "fig, fig1 = plt.subplots(1, 1, figsize=(8,4))\n",
    "\n",
    "Tr(1, 0.1, figx=fig1)\n",
    "\n",
    "plt.savefig('traza_4a1.png')"
   ]
  },
  {
   "cell_type": "code",
   "execution_count": 130,
   "metadata": {},
   "outputs": [
    {
     "name": "stderr",
     "output_type": "stream",
     "text": [
      "<ipython-input-130-a13644d61665>:14: RuntimeWarning: invalid value encountered in sqrt\n",
      "  lm = 0.5 * (tr - np.sqrt(delta))\n",
      "<ipython-input-130-a13644d61665>:15: RuntimeWarning: invalid value encountered in sqrt\n",
      "  lmas = 0.5 * (tr + np.sqrt(delta))\n"
     ]
    },
    {
     "data": {
      "image/png": "[encoded data removed]",
      "text/plain": [
       "<Figure size 576x288 with 1 Axes>"
      ]
     },
     "metadata": {
      "needs_background": "light"
     },
     "output_type": "display_data"
    }
   ],
   "source": [
    "#autovalores para gamma y b fijos variando a\n",
    "def auto(g, a, figx=None):\n",
    "    \n",
    "    b = np.linspace(0, 10, 1000)\n",
    "    k = a + b\n",
    "    \n",
    "    k0 = 2 * k\n",
    "    \n",
    "    tr= g * ((2 * b / k) - 1 - (k ** 2))\n",
    "    det = (g ** 2) * (k ** 2)\n",
    "    \n",
    "    delta = (tr ** 2) - (4 * det)\n",
    "    \n",
    "    lm = 0.5 * (tr - np.sqrt(delta))\n",
    "    lmas = 0.5 * (tr + np.sqrt(delta))\n",
    "    \n",
    "    h = k * (1 + (k ** 2)) / 2\n",
    "    \n",
    "    figx.plot(b, lmas, 'cyan', label=(r'$\\lambda_+(|b-h|>k^2)$'))\n",
    "    figx.plot(b, lm, 'b', label=(r'$\\lambda_- (|b-h|>k^2)$'))\n",
    "\n",
    "\n",
    "    \n",
    "    figx.axhline(0, color='k', lw=0.5, ls='--')\n",
    "    figx.set_xlabel('k')\n",
    "    figx.set_ylim(-10,10)\n",
    "    figx.legend()\n",
    "    \n",
    "fig, fig2 = plt.subplots(1, 1, figsize=(8,4))\n",
    "auto(1, 0.1, figx=fig2)\n",
    "\n",
    "plt.savefig('autovalores_4a.png')"
   ]
  },
  {
   "cell_type": "markdown",
   "metadata": {},
   "source": [
    "# APARTADO D"
   ]
  },
  {
   "cell_type": "code",
   "execution_count": 156,
   "metadata": {},
   "outputs": [
    {
     "data": {
      "text/plain": [
       "[k*q**2/2 + k/2 + k**3/(2*d) + k**3/(2*d*q**2)]"
      ]
     },
     "execution_count": 156,
     "metadata": {},
     "output_type": "execute_result"
    }
   ],
   "source": [
    "#condiciones para que det(h) sea =0\n",
    "def condiciones():\n",
    "    g = Symbol('gamma')\n",
    "    k = Symbol('k')\n",
    "    d = Symbol('d')\n",
    "    b = Symbol('b')\n",
    "    q = Symbol('q')\n",
    "    \n",
    "    w = solve((g ** 2) * ((k ** 2) + ((q ** 2) * (k ** 2 + (d * (1 - (2 * b / k) + (q **2)))))), b)\n",
    "    return w\n",
    "    \n",
    "condiciones() "
   ]
  },
  {
   "cell_type": "code",
   "execution_count": 168,
   "metadata": {},
   "outputs": [
    {
     "name": "stderr",
     "output_type": "stream",
     "text": [
      "<ipython-input-168-eb3fbcfaa62c>:14: RuntimeWarning: invalid value encountered in sqrt\n",
      "  lm = 0.5 * (tr - np.sqrt(delta))\n",
      "<ipython-input-168-eb3fbcfaa62c>:15: RuntimeWarning: invalid value encountered in sqrt\n",
      "  lmas = 0.5 * (tr + np.sqrt(delta))\n"
     ]
    },
    {
     "data": {
      "image/png": "[encoded data removed]",
      "text/plain": [
       "<Figure size 576x288 with 1 Axes>"
      ]
     },
     "metadata": {
      "needs_background": "light"
     },
     "output_type": "display_data"
    }
   ],
   "source": [
    "#autovalores de H, determinante, traza, etc, para todo fijo menos b\n",
    "def autoh(g, a, q, d, figx=None):\n",
    "    b = np.linspace(0.1, 10, 1000)\n",
    "    k = a + b\n",
    "    \n",
    "    xi = (2 * b / k) - 1 - (k ** 2)\n",
    "    k0 = 2 * k\n",
    "    \n",
    "    tr= g * xi - (1 + d) * (q ** 2)\n",
    "    det = (g ** 2) * ((k ** 2) + ((q ** 2) * (k ** 2 + (d * (1 - (2 * b / k) + (q **2))))))\n",
    "    \n",
    "    delta = (tr ** 2) - (4 * det)\n",
    "    \n",
    "    lm = 0.5 * (tr - np.sqrt(delta))\n",
    "    lmas = 0.5 * (tr + np.sqrt(delta))\n",
    "\n",
    "    \n",
    "    h = 0.5 * (k + (k ** 3))\n",
    "    \n",
    "    e = k * ((q ** 2) + 1 + ((k ** 2) / 2) * (1 + (1 / (q ** 2))))\n",
    "    \n",
    "    #figx.plot(b, lmas, 'k', label=('$\\lambda_+$'))\n",
    "    #figx.plot(b, lm,'b', label=('$\\lambda_-$'))\n",
    "    \n",
    "    #figx.plot(b, delta, 'r', label=('$\\Delta_H$'))\n",
    "    #figx.plot(b, tr, label=('Tr(H)'))\n",
    "    figx.plot(b[b<e], det[b<e], 'g', label=('Det(H)'))\n",
    "\n",
    "\n",
    "\n",
    "    \n",
    "    figx.axhline(0, color='k', lw=0.5, ls='--')\n",
    "    figx.set_xlabel('b')\n",
    "    figx.set_ylim(-10,10)\n",
    "    figx.legend()\n",
    "    \n",
    "fig, fig3 = plt.subplots(1, 1, figsize=(8,4))\n",
    "autoh(1, 0.1, 1, 1, figx=fig3)\n",
    "\n",
    "plt.savefig('estabilidad_4d.png')"
   ]
  },
  {
   "cell_type": "markdown",
   "metadata": {},
   "source": [
    "# APARTADO E"
   ]
  },
  {
   "cell_type": "code",
   "execution_count": 171,
   "metadata": {},
   "outputs": [
    {
     "data": {
      "text/plain": [
       "[0, -sqrt(4*b/k - 2 - 2*k**2/d)/2, sqrt(4*b/k - 2 - 2*k**2/d)/2]"
      ]
     },
     "execution_count": 171,
     "metadata": {},
     "output_type": "execute_result"
    }
   ],
   "source": [
    "#♥obtengo q_c\n",
    "def mindet():\n",
    "    q = Symbol('q')\n",
    "    k = Symbol('k')\n",
    "    d = Symbol('d')\n",
    "    b = Symbol('b')\n",
    "    \n",
    "    w = solve(((2 * q) * ((k ** 2) + d * (1 - (2 * b / k) + 2 * (q ** 2)))), q)\n",
    "    return w\n",
    "mindet()"
   ]
  },
  {
   "cell_type": "code",
   "execution_count": 209,
   "metadata": {},
   "outputs": [
    {
     "name": "stderr",
     "output_type": "stream",
     "text": [
      "<ipython-input-209-94623ddce38f>:6: RuntimeWarning: invalid value encountered in sqrt\n",
      "  q = np.sqrt((4 * b / k) - 2 - (2 * k ** 2 / d)) / 2\n",
      "<ipython-input-209-94623ddce38f>:17: RuntimeWarning: invalid value encountered in sqrt\n",
      "  lm = 0.5 * (tr - np.sqrt(delta))\n",
      "<ipython-input-209-94623ddce38f>:18: RuntimeWarning: invalid value encountered in sqrt\n",
      "  lmas = 0.5 * (tr + np.sqrt(delta))\n"
     ]
    },
    {
     "data": {
      "image/png": "[encoded data removed]",
      "text/plain": [
       "<Figure size 576x288 with 1 Axes>"
      ]
     },
     "metadata": {
      "needs_background": "light"
     },
     "output_type": "display_data"
    }
   ],
   "source": [
    "#calculo el determinante de H en funcion de qc\n",
    "def detH(g, b, d, figx=None):\n",
    "    k = np.linspace(0.1, 2, 1000)\n",
    "    #k = a + b\n",
    "    \n",
    "    q = np.sqrt((4 * b / k) - 2 - (2 * k ** 2 / d)) / 2\n",
    "\n",
    "    \n",
    "    xi = (2 * b / k) - 1 - (k ** 2)\n",
    "    k0 = 2 * k\n",
    "    \n",
    "    tr= (g * xi) - (1 + d) * (q ** 2)\n",
    "    det = (g ** 2) * ((k ** 2) + ((q ** 2) * (k ** 2 + (d * (1 - (2 * b / k) + (q **2))))))\n",
    "    \n",
    "    delta = (tr ** 2) - (4 * det)\n",
    "    \n",
    "    lm = 0.5 * (tr - np.sqrt(delta))\n",
    "    lmas = 0.5 * (tr + np.sqrt(delta))\n",
    "\n",
    "    \n",
    "    h = 0.5 * (k + (k ** 3))\n",
    "    \n",
    "    figx.plot(k, det)\n",
    "    \n",
    "fig, fig4 = plt.subplots(1, 1, figsize=(8,4))\n",
    "\n",
    "detH(1, 1, 0.1, figx=fig4)"
   ]
  },
  {
   "cell_type": "code",
   "execution_count": 206,
   "metadata": {},
   "outputs": [
    {
     "data": {
      "text/plain": [
       "[0.25*k**3*(2.0*b + k)/(b - 0.5*k)**2 - 2.82842712474619*sqrt(b*k**7)/(-4.0*b**2 + 4.0*b*k - k**2),\n",
       " 0.25*k**3*(2.0*b + k)/(b - 0.5*k)**2 + 2.82842712474619*sqrt(b*k**7)/(-4.0*b**2 + 4.0*b*k - k**2)]"
      ]
     },
     "execution_count": 206,
     "metadata": {},
     "output_type": "execute_result"
    }
   ],
   "source": [
    "#condicon para que det(H,q_c)=0\n",
    "def detqc():\n",
    "    k = Symbol('k')\n",
    "    d = Symbol('d')\n",
    "    b = Symbol('b')\n",
    "    g = Symbol('g')\n",
    "    \n",
    "    q = 0.5 * ((4 * b / k) - 2 - (2 * k ** 2 / d)) ** (1 / 2)\n",
    "    \n",
    "    w = solve((g ** 2) * ((k ** 2) + ((q ** 2) * (k ** 2 + (d * (1 - (2 * b / k) + (q **2)))))), d)\n",
    "    return w\n",
    "\n",
    "detqc()\n",
    "    "
   ]
  },
  {
   "cell_type": "code",
   "execution_count": null,
   "metadata": {},
   "outputs": [],
   "source": []
  }
 ],
 "metadata": {
  "kernelspec": {
   "display_name": "Python 3",
   "language": "python",
   "name": "python3"
  },
  "language_info": {
   "codemirror_mode": {
    "name": "ipython",
    "version": 3
   },
   "file_extension": ".py",
   "mimetype": "text/x-python",
   "name": "python",
   "nbconvert_exporter": "python",
   "pygments_lexer": "ipython3",
   "version": "3.8.5"
  }
 },
 "nbformat": 4,
 "nbformat_minor": 4
}
